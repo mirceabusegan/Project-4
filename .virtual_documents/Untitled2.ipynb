import yfinance as yf
import pandas as pd
import os


ticker = 'AAPL'
stock = yf.Ticker(ticker)
stock = stock.history(period="max")
stock.to_csv(ticker +'.csv')


stock.index = pd.to_datetime(stock.index)
stock.head(10)


stock.plot.line(y='High', use_index=True)



